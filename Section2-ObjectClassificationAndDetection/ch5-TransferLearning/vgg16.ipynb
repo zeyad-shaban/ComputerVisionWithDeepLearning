{
 "cells": [
  {
   "cell_type": "code",
   "id": "initial_id",
   "metadata": {
    "collapsed": true,
    "ExecuteTime": {
     "end_time": "2024-09-29T16:25:10.807140Z",
     "start_time": "2024-09-29T16:25:10.802313Z"
    }
   },
   "source": [
    "import os\n",
    "import random\n",
    "from cProfile import label\n",
    "\n",
    "import torch\n",
    "from torchvision import datasets, transforms, models\n",
    "from torch.utils.data import Dataset, DataLoader\n",
    "import torch.nn as nn\n",
    "import torch.optim as optim\n",
    "import torch.nn.functional as F\n",
    "import matplotlib.pyplot as plt\n",
    "from torchsummary import summary\n",
    "from PIL import Image\n",
    "from glob import glob\n",
    "\n",
    "device = 'cuda' if torch.cuda.is_available() else 'cpu'"
   ],
   "outputs": [],
   "execution_count": 29
  },
  {
   "metadata": {
    "ExecuteTime": {
     "end_time": "2024-09-29T10:46:00.203156Z",
     "start_time": "2024-09-29T10:45:56.362828Z"
    }
   },
   "cell_type": "code",
   "source": "vgg16_model = models.vgg16(weights=models.VGG16_Weights.DEFAULT)",
   "id": "fd61408e19417c81",
   "outputs": [],
   "execution_count": 2
  },
  {
   "metadata": {
    "ExecuteTime": {
     "end_time": "2024-09-30T00:44:14.396544Z",
     "start_time": "2024-09-30T00:44:13.368967Z"
    }
   },
   "cell_type": "code",
   "source": [
    "class DogCatDataset(Dataset):\n",
    "    LABELS_DICT = {\n",
    "        'dogs': 0,\n",
    "        'cats': 1,\n",
    "    }\n",
    "\n",
    "    def __init__(self, path, lim=-1, aug=None):\n",
    "        self.x = []\n",
    "        self.y = []\n",
    "\n",
    "        for label, val in self.LABELS_DICT.items():\n",
    "            file_paths = glob(os.path.join(path, label, '*.jpg'))\n",
    "\n",
    "            self.x.extend(file_paths)\n",
    "            self.y.extend([val] * len(file_paths))\n",
    "\n",
    "        shuffled_combined = list(zip(self.x, self.y))\n",
    "        random.shuffle(shuffled_combined)\n",
    "        self.x, self.y = zip(*shuffled_combined)\n",
    "\n",
    "        self.x = self.x[:lim]\n",
    "        self.y = self.y[:lim]\n",
    "\n",
    "        self.aug = aug\n",
    "        self.img_transform = transforms.Compose([\n",
    "            transforms.Resize(256, interpolation=transforms.InterpolationMode.BILINEAR),\n",
    "            transforms.CenterCrop(224),\n",
    "            transforms.ToTensor(),\n",
    "\n",
    "            transforms.Normalize(mean=[0.485, 0.456, 0.406], std=[0.229, 0.224, 0.225]),\n",
    "        ])\n",
    "\n",
    "    def __getitem__(self, idx):\n",
    "        x = Image.open(self.x[idx])\n",
    "        x = self.img_transform(x)\n",
    "        return x, torch.tensor(self.y[idx]).float().unsqueeze(-1)\n",
    "\n",
    "    def __len__(self):\n",
    "        return len(self.x)\n",
    "\n",
    "\n",
    "train_dataset = DogCatDataset(\"data/cats_and_dogs_classification/training_set\", lim=500)\n",
    "val_dataset = DogCatDataset(\"data/cats_and_dogs_classification/test_set\", lim=200)\n",
    "\n",
    "train_dataloader = DataLoader(train_dataset, batch_size=64, shuffle=True)\n",
    "val_dataloader = DataLoader(val_dataset, batch_size=64, shuffle=True)"
   ],
   "id": "67877f0d7416857d",
   "outputs": [],
   "execution_count": 85
  },
  {
   "metadata": {
    "ExecuteTime": {
     "end_time": "2024-09-29T10:49:49.669965Z",
     "start_time": "2024-09-29T10:49:49.665944Z"
    }
   },
   "cell_type": "code",
   "source": [
    "for param in vgg16_model.parameters():\n",
    "    param.requires_grad = False"
   ],
   "id": "437e2f4856a24568",
   "outputs": [],
   "execution_count": 7
  },
  {
   "metadata": {
    "ExecuteTime": {
     "end_time": "2024-09-29T10:49:50.497027Z",
     "start_time": "2024-09-29T10:49:50.405906Z"
    }
   },
   "cell_type": "code",
   "source": [
    "vgg16_model.avgpool = nn.AdaptiveAvgPool2d(1)\n",
    "vgg16_model.classifier = nn.Sequential(\n",
    "    # nn.Linear(512, 128),\n",
    "    # nn.BatchNorm1d(128),\n",
    "    # nn.ReLU(True),\n",
    "    # \n",
    "    # nn.Dropout(0.5),\n",
    "    # nn.Linear(128, 1),\n",
    "    # nn.Sigmoid()\n",
    "\n",
    "    nn.Linear(512, 1),\n",
    "    nn.Sigmoid(),\n",
    ")"
   ],
   "id": "bc96af05e3c13abf",
   "outputs": [],
   "execution_count": 8
  },
  {
   "metadata": {
    "ExecuteTime": {
     "end_time": "2024-09-29T10:49:51.249278Z",
     "start_time": "2024-09-29T10:49:51.240913Z"
    }
   },
   "cell_type": "code",
   "source": [
    "criterion = nn.BCELoss()\n",
    "opt = optim.Adam(vgg16_model.parameters())"
   ],
   "id": "e6030b94c468cb85",
   "outputs": [],
   "execution_count": 9
  },
  {
   "metadata": {
    "ExecuteTime": {
     "end_time": "2024-09-29T10:50:02.874702Z",
     "start_time": "2024-09-29T10:50:02.870729Z"
    }
   },
   "cell_type": "code",
   "source": [
    "def measure_accuracy(_y: torch.Tensor, y: torch.Tensor) -> float:\n",
    "    return (((_y >= 0.5) == y).sum() / y.shape[0]).item()"
   ],
   "id": "485c0b03e504fb29",
   "outputs": [],
   "execution_count": 10
  },
  {
   "metadata": {
    "ExecuteTime": {
     "end_time": "2024-09-29T10:50:04.449077Z",
     "start_time": "2024-09-29T10:50:04.436477Z"
    }
   },
   "cell_type": "code",
   "source": "vgg16_model",
   "id": "421040aeb3a5986d",
   "outputs": [
    {
     "data": {
      "text/plain": [
       "VGG(\n",
       "  (features): Sequential(\n",
       "    (0): Conv2d(3, 64, kernel_size=(3, 3), stride=(1, 1), padding=(1, 1))\n",
       "    (1): ReLU(inplace=True)\n",
       "    (2): Conv2d(64, 64, kernel_size=(3, 3), stride=(1, 1), padding=(1, 1))\n",
       "    (3): ReLU(inplace=True)\n",
       "    (4): MaxPool2d(kernel_size=2, stride=2, padding=0, dilation=1, ceil_mode=False)\n",
       "    (5): Conv2d(64, 128, kernel_size=(3, 3), stride=(1, 1), padding=(1, 1))\n",
       "    (6): ReLU(inplace=True)\n",
       "    (7): Conv2d(128, 128, kernel_size=(3, 3), stride=(1, 1), padding=(1, 1))\n",
       "    (8): ReLU(inplace=True)\n",
       "    (9): MaxPool2d(kernel_size=2, stride=2, padding=0, dilation=1, ceil_mode=False)\n",
       "    (10): Conv2d(128, 256, kernel_size=(3, 3), stride=(1, 1), padding=(1, 1))\n",
       "    (11): ReLU(inplace=True)\n",
       "    (12): Conv2d(256, 256, kernel_size=(3, 3), stride=(1, 1), padding=(1, 1))\n",
       "    (13): ReLU(inplace=True)\n",
       "    (14): Conv2d(256, 256, kernel_size=(3, 3), stride=(1, 1), padding=(1, 1))\n",
       "    (15): ReLU(inplace=True)\n",
       "    (16): MaxPool2d(kernel_size=2, stride=2, padding=0, dilation=1, ceil_mode=False)\n",
       "    (17): Conv2d(256, 512, kernel_size=(3, 3), stride=(1, 1), padding=(1, 1))\n",
       "    (18): ReLU(inplace=True)\n",
       "    (19): Conv2d(512, 512, kernel_size=(3, 3), stride=(1, 1), padding=(1, 1))\n",
       "    (20): ReLU(inplace=True)\n",
       "    (21): Conv2d(512, 512, kernel_size=(3, 3), stride=(1, 1), padding=(1, 1))\n",
       "    (22): ReLU(inplace=True)\n",
       "    (23): MaxPool2d(kernel_size=2, stride=2, padding=0, dilation=1, ceil_mode=False)\n",
       "    (24): Conv2d(512, 512, kernel_size=(3, 3), stride=(1, 1), padding=(1, 1))\n",
       "    (25): ReLU(inplace=True)\n",
       "    (26): Conv2d(512, 512, kernel_size=(3, 3), stride=(1, 1), padding=(1, 1))\n",
       "    (27): ReLU(inplace=True)\n",
       "    (28): Conv2d(512, 512, kernel_size=(3, 3), stride=(1, 1), padding=(1, 1))\n",
       "    (29): ReLU(inplace=True)\n",
       "    (30): MaxPool2d(kernel_size=2, stride=2, padding=0, dilation=1, ceil_mode=False)\n",
       "  )\n",
       "  (avgpool): AdaptiveAvgPool2d(output_size=1)\n",
       "  (classifier): Sequential(\n",
       "    (0): Linear(in_features=512, out_features=1, bias=True)\n",
       "    (1): Sigmoid()\n",
       "  )\n",
       ")"
      ]
     },
     "execution_count": 11,
     "metadata": {},
     "output_type": "execute_result"
    }
   ],
   "execution_count": 11
  },
  {
   "metadata": {
    "ExecuteTime": {
     "end_time": "2024-09-28T13:16:29.901732Z",
     "start_time": "2024-09-28T13:16:29.895848Z"
    }
   },
   "cell_type": "code",
   "source": [
    "train_losses, train_accuracies = [], []\n",
    "val_losses, val_accuracies = [], []"
   ],
   "id": "fdde03adbb66c44c",
   "outputs": [],
   "execution_count": 287
  },
  {
   "metadata": {
    "ExecuteTime": {
     "end_time": "2024-09-28T13:17:40.447939Z",
     "start_time": "2024-09-28T13:16:30.355307Z"
    }
   },
   "cell_type": "code",
   "source": [
    "epochs = 5\n",
    "\n",
    "for epoch in range(epochs):\n",
    "    for x, y in train_dataloader:\n",
    "        vgg16_model.train()\n",
    "\n",
    "        _y = vgg16_model(x)\n",
    "        loss = criterion(_y, y)\n",
    "\n",
    "        train_losses.append(loss.item())\n",
    "        train_accuracies.append(measure_accuracy(_y, y))\n",
    "\n",
    "        opt.zero_grad()\n",
    "        loss.backward()\n",
    "        opt.step()\n",
    "\n",
    "        print(\"done with train data\")\n",
    "\n",
    "        with torch.no_grad():\n",
    "            vgg16_model.eval()\n",
    "\n",
    "            for x_val, y_val in val_dataloader:\n",
    "                _y_val = vgg16_model(x_val)\n",
    "                val_losses.append(criterion(_y_val, y_val))\n",
    "                val_accuracies.append(measure_accuracy(_y_val, y_val))\n",
    "\n",
    "            print(\"done with validate data\")\n"
   ],
   "id": "ce95371b4217dff2",
   "outputs": [
    {
     "name": "stdout",
     "output_type": "stream",
     "text": [
      "done with train data\n",
      "done with validate data\n",
      "done with train data\n",
      "done with validate data\n",
      "done with train data\n",
      "done with validate data\n",
      "done with train data\n",
      "done with validate data\n",
      "done with train data\n",
      "done with validate data\n"
     ]
    }
   ],
   "execution_count": 288
  },
  {
   "metadata": {
    "ExecuteTime": {
     "end_time": "2024-09-28T13:17:43.966910Z",
     "start_time": "2024-09-28T13:17:43.746458Z"
    }
   },
   "cell_type": "code",
   "source": [
    "plt.subplot(121)\n",
    "plt.plot(range(len(train_losses)), train_losses, label=\"Train\", color='red')\n",
    "plt.plot(range(len(val_losses)), val_losses, label=\"Validate\", color='blue')\n",
    "plt.title(\"Losses\")\n",
    "plt.legend()\n",
    "\n",
    "plt.subplot(122)\n",
    "plt.plot(range(len(train_accuracies)), train_accuracies, label=\"Train\", color='red')\n",
    "plt.plot(range(len(val_accuracies)), val_accuracies, label=\"Validate\", color='blue')\n",
    "plt.title(\"Accuracies\")\n",
    "plt.legend()"
   ],
   "id": "ede37c6c9c19b2a8",
   "outputs": [
    {
     "data": {
      "text/plain": [
       "<matplotlib.legend.Legend at 0x1d98bd474d0>"
      ]
     },
     "execution_count": 293,
     "metadata": {},
     "output_type": "execute_result"
    },
    {
     "data": {
      "text/plain": [
       "<Figure size 640x480 with 2 Axes>"
      ],
      "image/png": "[encoded data removed]"
     },
     "metadata": {},
     "output_type": "display_data"
    }
   ],
   "execution_count": 293
  },
  {
   "metadata": {},
   "cell_type": "markdown",
   "source": "",
   "id": "908aede9074906f2"
  },
  {
   "metadata": {},
   "cell_type": "code",
   "outputs": [],
   "execution_count": null,
   "source": "",
   "id": "201abed0a44c27f2"
  },
  {
   "metadata": {},
   "cell_type": "markdown",
   "source": "*RESNET BLOCKS DOWN HERE*",
   "id": "4d3c8990b9d10165"
  },
  {
   "metadata": {
    "ExecuteTime": {
     "end_time": "2024-09-30T00:45:34.507700Z",
     "start_time": "2024-09-30T00:44:24.228960Z"
    }
   },
   "cell_type": "code",
   "source": [
    "class ResLayer(nn.Module):\n",
    "    def __init__(self, cin, cout, ksize=3):\n",
    "        super().__init__()\n",
    "        padding = (ksize - 1) / 2\n",
    "\n",
    "        self.conv = nn.Sequential(\n",
    "            nn.Conv2d(cin, cout, ksize),\n",
    "            nn.BatchNorm2d(cout),\n",
    "            nn.ReLU(),\n",
    "            # nn.MaxPool2d(2),\n",
    "        )\n",
    "\n",
    "    def forward(self, x):\n",
    "        return self.conv(x)\n",
    "    \n",
    "    \n",
    "class ResNet(nn.Module):\n",
    "    def __init__(self):\n",
    "        super().__init__()\n",
    "        self.conv1x64 = nn.Sequential(\n",
    "            nn.Conv2d(3, 64, 3, padding=1),\n",
    "            nn.MaxPool2d(2),\n",
    "        )\n",
    "        \n",
    "        self.conv64 = nn.Sequential(\n",
    "            nn.Conv2d(64, 64, 3, padding=1),\n",
    "            nn.Conv2d(64, 64, 3, padding=1),\n",
    "        )\n",
    "        \n",
    "        self.conv64x128 = nn.Sequential(\n",
    "            nn.Conv2d(64, 128, 3, padding=1),\n",
    "            nn.MaxPool2d(2),\n",
    "            nn.Conv2d(128, 128, 3, padding=1),\n",
    "        )\n",
    "        \n",
    "        self.conv128 = nn.Sequential(\n",
    "            nn.Conv2d(128, 128, 3, padding=1),\n",
    "            nn.Conv2d(128, 128, 3, padding=1),\n",
    "        )\n",
    "        \n",
    "        self.conv128x256 = nn.Sequential(\n",
    "            nn.Conv2d(128, 256, 3, padding=1),\n",
    "            nn.MaxPool2d(2),\n",
    "            nn.Conv2d(256, 256, 3, padding=1),\n",
    "        )\n",
    "        self.conv256 = nn.Sequential(\n",
    "            nn.Conv2d(256, 256, 3, padding=1),\n",
    "            nn.Conv2d(256, 256, 3, padding=1),\n",
    "        )\n",
    "        \n",
    "        self.conv256x512 = nn.Sequential(\n",
    "            nn.Conv2d(256, 512, 3, padding=1),\n",
    "            nn.MaxPool2d(2),\n",
    "        )\n",
    "        \n",
    "        self.avgpool = nn.AdaptiveAvgPool2d((7, 7))\n",
    "        \n",
    "        self.fc = nn.Sequential(\n",
    "            nn.Flatten(),\n",
    "            nn.Linear(7 * 7 * 256, 1),\n",
    "            nn.Sigmoid()\n",
    "        )\n",
    "        \n",
    "    def repeater(self, mem):\n",
    "        return F.max_pool2d(mem, 2).repeat(1, 2, 1, 1)\n",
    "        \n",
    "    def forward(self, x: torch.Tensor):\n",
    "        x = self.conv1x64(x)\n",
    "        mem = torch.clone(x)\n",
    "        \n",
    "        x = self.conv64(x)\n",
    "        x += mem\n",
    "        x = self.conv64(x)\n",
    "        x += mem\n",
    "        x = self.conv64(x)\n",
    "        x += mem\n",
    "        \n",
    "        x = self.conv64x128(x)\n",
    "        x += self.repeater(mem)\n",
    "        mem = x.clone()\n",
    "        \n",
    "        x = self.conv128(x)\n",
    "        x += mem\n",
    "        x = self.conv128(x)\n",
    "        x += mem\n",
    "        x = self.conv128(x)\n",
    "        x += mem\n",
    "        \n",
    "        x = self.conv128x256(x)\n",
    "        x += self.repeater(mem)\n",
    "        mem = x.clone()\n",
    "        \n",
    "        x = self.conv256(x)\n",
    "        x += mem\n",
    "        x = self.conv256(x)\n",
    "        x += mem\n",
    "        x = self.avgpool(x)\n",
    "        \n",
    "        x = self.fc(x)\n",
    "        \n",
    "        return x\n",
    "    \n",
    "    \n",
    "    \n",
    "resnet_model = ResNet()"
   ],
   "id": "b74fedbcc05d5ee6",
   "outputs": [
    {
     "name": "stdout",
     "output_type": "stream",
     "text": [
      "tensor(0.7333, grad_fn=<BinaryCrossEntropyBackward0>)\n"
     ]
    },
    {
     "ename": "KeyboardInterrupt",
     "evalue": "",
     "output_type": "error",
     "traceback": [
      "\u001B[1;31m---------------------------------------------------------------------------\u001B[0m",
      "\u001B[1;31mKeyboardInterrupt\u001B[0m                         Traceback (most recent call last)",
      "Cell \u001B[1;32mIn[86], line 119\u001B[0m\n\u001B[0;32m    116\u001B[0m loss \u001B[38;5;241m=\u001B[39m criterion(_y, y)\n\u001B[0;32m    118\u001B[0m opt\u001B[38;5;241m.\u001B[39mzero_grad()\n\u001B[1;32m--> 119\u001B[0m \u001B[43mloss\u001B[49m\u001B[38;5;241;43m.\u001B[39;49m\u001B[43mbackward\u001B[49m\u001B[43m(\u001B[49m\u001B[43m)\u001B[49m\n\u001B[0;32m    120\u001B[0m opt\u001B[38;5;241m.\u001B[39mstep()\n\u001B[0;32m    122\u001B[0m \u001B[38;5;28mprint\u001B[39m(loss)\n",
      "File \u001B[1;32m~\\Desktop\\Workspace\\Code\\Sandbox\\ComputerVisionWithDeepLearning\\Section2-ObjectClassificationAndDetection\\venv\\Lib\\site-packages\\torch\\_tensor.py:521\u001B[0m, in \u001B[0;36mTensor.backward\u001B[1;34m(self, gradient, retain_graph, create_graph, inputs)\u001B[0m\n\u001B[0;32m    511\u001B[0m \u001B[38;5;28;01mif\u001B[39;00m has_torch_function_unary(\u001B[38;5;28mself\u001B[39m):\n\u001B[0;32m    512\u001B[0m     \u001B[38;5;28;01mreturn\u001B[39;00m handle_torch_function(\n\u001B[0;32m    513\u001B[0m         Tensor\u001B[38;5;241m.\u001B[39mbackward,\n\u001B[0;32m    514\u001B[0m         (\u001B[38;5;28mself\u001B[39m,),\n\u001B[1;32m   (...)\u001B[0m\n\u001B[0;32m    519\u001B[0m         inputs\u001B[38;5;241m=\u001B[39minputs,\n\u001B[0;32m    520\u001B[0m     )\n\u001B[1;32m--> 521\u001B[0m \u001B[43mtorch\u001B[49m\u001B[38;5;241;43m.\u001B[39;49m\u001B[43mautograd\u001B[49m\u001B[38;5;241;43m.\u001B[39;49m\u001B[43mbackward\u001B[49m\u001B[43m(\u001B[49m\n\u001B[0;32m    522\u001B[0m \u001B[43m    \u001B[49m\u001B[38;5;28;43mself\u001B[39;49m\u001B[43m,\u001B[49m\u001B[43m \u001B[49m\u001B[43mgradient\u001B[49m\u001B[43m,\u001B[49m\u001B[43m \u001B[49m\u001B[43mretain_graph\u001B[49m\u001B[43m,\u001B[49m\u001B[43m \u001B[49m\u001B[43mcreate_graph\u001B[49m\u001B[43m,\u001B[49m\u001B[43m \u001B[49m\u001B[43minputs\u001B[49m\u001B[38;5;241;43m=\u001B[39;49m\u001B[43minputs\u001B[49m\n\u001B[0;32m    523\u001B[0m \u001B[43m\u001B[49m\u001B[43m)\u001B[49m\n",
      "File \u001B[1;32m~\\Desktop\\Workspace\\Code\\Sandbox\\ComputerVisionWithDeepLearning\\Section2-ObjectClassificationAndDetection\\venv\\Lib\\site-packages\\torch\\autograd\\__init__.py:289\u001B[0m, in \u001B[0;36mbackward\u001B[1;34m(tensors, grad_tensors, retain_graph, create_graph, grad_variables, inputs)\u001B[0m\n\u001B[0;32m    284\u001B[0m     retain_graph \u001B[38;5;241m=\u001B[39m create_graph\n\u001B[0;32m    286\u001B[0m \u001B[38;5;66;03m# The reason we repeat the same comment below is that\u001B[39;00m\n\u001B[0;32m    287\u001B[0m \u001B[38;5;66;03m# some Python versions print out the first line of a multi-line function\u001B[39;00m\n\u001B[0;32m    288\u001B[0m \u001B[38;5;66;03m# calls in the traceback and some print out the last line\u001B[39;00m\n\u001B[1;32m--> 289\u001B[0m \u001B[43m_engine_run_backward\u001B[49m\u001B[43m(\u001B[49m\n\u001B[0;32m    290\u001B[0m \u001B[43m    \u001B[49m\u001B[43mtensors\u001B[49m\u001B[43m,\u001B[49m\n\u001B[0;32m    291\u001B[0m \u001B[43m    \u001B[49m\u001B[43mgrad_tensors_\u001B[49m\u001B[43m,\u001B[49m\n\u001B[0;32m    292\u001B[0m \u001B[43m    \u001B[49m\u001B[43mretain_graph\u001B[49m\u001B[43m,\u001B[49m\n\u001B[0;32m    293\u001B[0m \u001B[43m    \u001B[49m\u001B[43mcreate_graph\u001B[49m\u001B[43m,\u001B[49m\n\u001B[0;32m    294\u001B[0m \u001B[43m    \u001B[49m\u001B[43minputs\u001B[49m\u001B[43m,\u001B[49m\n\u001B[0;32m    295\u001B[0m \u001B[43m    \u001B[49m\u001B[43mallow_unreachable\u001B[49m\u001B[38;5;241;43m=\u001B[39;49m\u001B[38;5;28;43;01mTrue\u001B[39;49;00m\u001B[43m,\u001B[49m\n\u001B[0;32m    296\u001B[0m \u001B[43m    \u001B[49m\u001B[43maccumulate_grad\u001B[49m\u001B[38;5;241;43m=\u001B[39;49m\u001B[38;5;28;43;01mTrue\u001B[39;49;00m\u001B[43m,\u001B[49m\n\u001B[0;32m    297\u001B[0m \u001B[43m\u001B[49m\u001B[43m)\u001B[49m\n",
      "File \u001B[1;32m~\\Desktop\\Workspace\\Code\\Sandbox\\ComputerVisionWithDeepLearning\\Section2-ObjectClassificationAndDetection\\venv\\Lib\\site-packages\\torch\\autograd\\graph.py:769\u001B[0m, in \u001B[0;36m_engine_run_backward\u001B[1;34m(t_outputs, *args, **kwargs)\u001B[0m\n\u001B[0;32m    767\u001B[0m     unregister_hooks \u001B[38;5;241m=\u001B[39m _register_logging_hooks_on_whole_graph(t_outputs)\n\u001B[0;32m    768\u001B[0m \u001B[38;5;28;01mtry\u001B[39;00m:\n\u001B[1;32m--> 769\u001B[0m     \u001B[38;5;28;01mreturn\u001B[39;00m \u001B[43mVariable\u001B[49m\u001B[38;5;241;43m.\u001B[39;49m\u001B[43m_execution_engine\u001B[49m\u001B[38;5;241;43m.\u001B[39;49m\u001B[43mrun_backward\u001B[49m\u001B[43m(\u001B[49m\u001B[43m  \u001B[49m\u001B[38;5;66;43;03m# Calls into the C++ engine to run the backward pass\u001B[39;49;00m\n\u001B[0;32m    770\u001B[0m \u001B[43m        \u001B[49m\u001B[43mt_outputs\u001B[49m\u001B[43m,\u001B[49m\u001B[43m \u001B[49m\u001B[38;5;241;43m*\u001B[39;49m\u001B[43margs\u001B[49m\u001B[43m,\u001B[49m\u001B[43m \u001B[49m\u001B[38;5;241;43m*\u001B[39;49m\u001B[38;5;241;43m*\u001B[39;49m\u001B[43mkwargs\u001B[49m\n\u001B[0;32m    771\u001B[0m \u001B[43m    \u001B[49m\u001B[43m)\u001B[49m  \u001B[38;5;66;03m# Calls into the C++ engine to run the backward pass\u001B[39;00m\n\u001B[0;32m    772\u001B[0m \u001B[38;5;28;01mfinally\u001B[39;00m:\n\u001B[0;32m    773\u001B[0m     \u001B[38;5;28;01mif\u001B[39;00m attach_logging_hooks:\n",
      "\u001B[1;31mKeyboardInterrupt\u001B[0m: "
     ]
    }
   ],
   "execution_count": 86
  },
  {
   "metadata": {
    "ExecuteTime": {
     "end_time": "2024-09-30T01:22:47.282211Z",
     "start_time": "2024-09-30T01:12:49.808849Z"
    }
   },
   "cell_type": "code",
   "source": [
    "trn_losses = []\n",
    "val_losses = []\n",
    "trn_accuracies = []\n",
    "val_accuracies = []\n",
    "\n",
    "\n",
    "epochs = 2\n",
    "criterion = nn.BCELoss()\n",
    "opt = optim.Adam(resnet_model.parameters())\n",
    "for epoch in range(epochs):\n",
    "    for x, y in train_dataloader:\n",
    "        x = x\n",
    "        y = y\n",
    "\n",
    "        _y = resnet_model(x)\n",
    "        loss = criterion(_y, y)\n",
    "\n",
    "        opt.zero_grad()\n",
    "        loss.backward()\n",
    "        opt.step()\n",
    "\n",
    "        trn_losses.append(loss.item())\n",
    "        \n",
    "    trn_accuracies.append(measure_accuracy(_y, y))\n",
    "    with torch.no_grad():\n",
    "        for x_val, y_val in val_dataloader:\n",
    "            _y_val = resnet_model(x_val)\n",
    "            val_losses.append(criterion(_y_val, y_val))\n",
    "            val_accuracies.append(measure_accuracy(_y, y))\n",
    "            \n",
    "    print(f'done with epoch {epoch}')"
   ],
   "id": "399c5451ca4ee56b",
   "outputs": [
    {
     "name": "stdout",
     "output_type": "stream",
     "text": [
      "done with epoch 0\n",
      "done with epoch 1\n"
     ]
    }
   ],
   "execution_count": 98
  },
  {
   "metadata": {
    "ExecuteTime": {
     "end_time": "2024-09-30T01:26:08.863167Z",
     "start_time": "2024-09-30T01:26:08.589022Z"
    }
   },
   "cell_type": "code",
   "outputs": [
    {
     "data": {
      "text/plain": [
       "<matplotlib.legend.Legend at 0x1e7868dbaa0>"
      ]
     },
     "execution_count": 99,
     "metadata": {},
     "output_type": "execute_result"
    },
    {
     "data": {
      "text/plain": [
       "<Figure size 640x480 with 2 Axes>"
      ],
      "image/png": "[encoded data removed]"
     },
     "metadata": {},
     "output_type": "display_data"
    }
   ],
   "execution_count": 99,
   "source": [
    "plt.subplot(121)\n",
    "plt.title('Losses')\n",
    "plt.plot(range(len(trn_losses)), trn_losses, label='Train')\n",
    "plt.plot(range(len(val_accuracies)), val_accuracies, label='Validation')\n",
    "plt.legend()\n",
    "\n",
    "plt.subplot(122)\n",
    "plt.title('Accuracies')\n",
    "plt.plot(range(len(trn_accuracies)), trn_accuracies, label='Train')\n",
    "plt.plot(range(len(val_accuracies)), val_accuracies, label='Validation')\n",
    "plt.legend()"
   ],
   "id": "fc8473600fe2bfd"
  }
 ],
 "metadata": {
  "kernelspec": {
   "display_name": "Python 3",
   "language": "python",
   "name": "python3"
  },
  "language_info": {
   "codemirror_mode": {
    "name": "ipython",
    "version": 2
   },
   "file_extension": ".py",
   "mimetype": "text/x-python",
   "name": "python",
   "nbconvert_exporter": "python",
   "pygments_lexer": "ipython2",
   "version": "2.7.6"
  }
 },
 "nbformat": 4,
 "nbformat_minor": 5
}
