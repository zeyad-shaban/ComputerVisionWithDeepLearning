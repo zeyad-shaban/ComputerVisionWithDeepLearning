{
 "cells": [
  {
   "metadata": {
    "ExecuteTime": {
     "end_time": "2024-09-23T12:06:31.287675Z",
     "start_time": "2024-09-23T12:06:31.267363Z"
    }
   },
   "cell_type": "code",
   "source": [
    "import matplotlib.pyplot as plt\n",
    "import numpy as np\n",
    "import torch.nn as nn\n",
    "import torch\n",
    "from torchvision import transforms\n",
    "from PIL import Image\n",
    "from torch import optim\n",
    "from torch.utils.data import Dataset, DataLoader\n",
    "from glob import glob\n",
    "import os\n",
    "from torchsummary import summary\n",
    "import time\n",
    "import random\n",
    "\n",
    "device = 'cuda' if torch.cuda.is_available() else 'cpu'"
   ],
   "outputs": [],
   "execution_count": 196
  },
  {
   "metadata": {
    "ExecuteTime": {
     "end_time": "2024-09-23T12:06:38.428408Z",
     "start_time": "2024-09-23T12:06:38.414732Z"
    }
   },
   "cell_type": "code",
   "source": [
    "class DogCatDataset(Dataset):\n",
    "    LABEL_DICT = {\n",
    "        'cats': 0,\n",
    "        'dogs': 1\n",
    "    }\n",
    "\n",
    "    def __init__(self, folder_path, aug=None):\n",
    "        super().__init__()\n",
    "\n",
    "        self.x = []\n",
    "        self.y = []\n",
    "        self.aug = []\n",
    "\n",
    "        self.img_transformer = transforms.Compose([\n",
    "            transforms.Resize((224, 224)),\n",
    "            transforms.PILToTensor(),\n",
    "        ])\n",
    "\n",
    "        self.aug = aug\n",
    "\n",
    "        for label, value in DogCatDataset.LABEL_DICT.items():\n",
    "            path = os.path.join(folder_path, label, '*.jpg')\n",
    "            files = glob(path)\n",
    "\n",
    "            self.x.extend(files)\n",
    "            self.y.extend([value] * len(files))\n",
    "            \n",
    "        combined = list(zip(self.x, self.y))\n",
    "        random.shuffle(combined)\n",
    "        self.x[:], self.y[:] = zip(*combined)\n",
    "\n",
    "    def __len__(self):\n",
    "        return len(self.x)\n",
    "\n",
    "    def __getitem__(self, idx):\n",
    "        x = Image.open(self.x[idx]).convert('RGB')\n",
    "        y = self.y[idx]\n",
    "\n",
    "        x = self.img_transformer(x).float().to(device) / 255\n",
    "\n",
    "        return x, torch.tensor(y, dtype=torch.float32)"
   ],
   "outputs": [],
   "execution_count": 197
  },
  {
   "metadata": {
    "ExecuteTime": {
     "end_time": "2024-09-23T12:06:39.067845Z",
     "start_time": "2024-09-23T12:06:39.003711Z"
    }
   },
   "cell_type": "code",
   "source": [
    "trn_dataset = DogCatDataset(\"./cats_and_dogs_classification/training_set\")\n",
    "val_dataset = DogCatDataset(\"./cats_and_dogs_classification/test_set\")\n",
    "\n",
    "val_dataset.x = val_dataset.x\n",
    "val_dataset.y = val_dataset.y\n",
    "\n",
    "trn_dataloader = DataLoader(trn_dataset, batch_size=64, shuffle=True)\n",
    "val_dataloader = DataLoader(val_dataset, batch_size=64, shuffle=True)"
   ],
   "outputs": [],
   "execution_count": 198
  },
  {
   "metadata": {
    "ExecuteTime": {
     "end_time": "2024-09-23T12:06:39.811939Z",
     "start_time": "2024-09-23T12:06:39.790211Z"
    }
   },
   "cell_type": "code",
   "source": [
    "class Network(nn.Module):\n",
    "    @staticmethod\n",
    "    def conv_layer(cin, cout, ks=3, stride=1, padding=0, pool_size=2):\n",
    "        return nn.Sequential(\n",
    "            nn.Conv2d(cin, cout, kernel_size=ks, stride=stride, padding=padding),\n",
    "            nn.BatchNorm2d(cout),\n",
    "            nn.ReLU(),\n",
    "            nn.MaxPool2d(pool_size)\n",
    "        )\n",
    "\n",
    "    def __init__(self):\n",
    "        super().__init__()\n",
    "\n",
    "        self.conv = nn.Sequential(\n",
    "            self.conv_layer(3, 16, pool_size=4),\n",
    "            self.conv_layer(16, 32, pool_size=4),\n",
    "            self.conv_layer(32, 64, pool_size=4),\n",
    "            nn.Flatten(),\n",
    "        )\n",
    "\n",
    "        self.fc = nn.Sequential(\n",
    "            nn.Linear(256, 100),\n",
    "            nn.Dropout(0.2),\n",
    "            nn.BatchNorm1d(100),\n",
    "            nn.ReLU(),\n",
    "\n",
    "            nn.Linear(100, 1),\n",
    "            nn.Sigmoid(),\n",
    "        )\n",
    "\n",
    "    def forward(self, x: torch.Tensor) -> torch.Tensor:\n",
    "        start_conv = time.time()\n",
    "        x = self.conv(x)\n",
    "        end_conv = time.time()\n",
    "\n",
    "        start_fc = time.time()\n",
    "        x = self.fc(x)\n",
    "        end_fc = time.time()\n",
    "\n",
    "        return x"
   ],
   "outputs": [],
   "execution_count": 199
  },
  {
   "metadata": {
    "ExecuteTime": {
     "end_time": "2024-09-23T12:07:51.891877Z",
     "start_time": "2024-09-23T12:07:51.872369Z"
    }
   },
   "cell_type": "code",
   "source": [
    "model = Network().to(device)\n",
    "# summary(model, torch.zeros(1, 3, 224, 224))"
   ],
   "outputs": [],
   "execution_count": 204
  },
  {
   "metadata": {
    "ExecuteTime": {
     "end_time": "2024-09-23T12:07:52.630957Z",
     "start_time": "2024-09-23T12:07:52.621423Z"
    }
   },
   "cell_type": "code",
   "source": [
    "opt = optim.Adam(model.parameters(), lr=1e-2)\n",
    "schedular = optim.lr_scheduler.ReduceLROnPlateau(\n",
    "    opt,\n",
    "    patience=10,\n",
    "    threshold=1e-3,\n",
    "    threshold_mode='rel',\n",
    "    factor=0.5,\n",
    ")\n",
    "criterion = nn.BCELoss()"
   ],
   "outputs": [],
   "execution_count": 205
  },
  {
   "metadata": {
    "ExecuteTime": {
     "end_time": "2024-09-23T12:45:09.849528Z",
     "start_time": "2024-09-23T12:07:53.439384Z"
    }
   },
   "cell_type": "code",
   "source": [
    "epochs = 10\n",
    "trn_losses = []\n",
    "val_losses = []\n",
    "trn_accuracies = [0]\n",
    "val_accuracies = [0]\n",
    "\n",
    "for epoch in range(epochs):\n",
    "    loss_avg = 0\n",
    "    accuracy_avg = 0\n",
    "\n",
    "    i = 0\n",
    "    for x, y in trn_dataloader:\n",
    "        i += 1\n",
    "        model.train()\n",
    "        opt.zero_grad()\n",
    "\n",
    "        _y = model(x)\n",
    "        loss = criterion(_y.squeeze(-1), y)\n",
    "        loss.backward()\n",
    "        opt.step()\n",
    "\n",
    "        loss_avg += loss\n",
    "        accuracy_avg += _y.argmax(1).eq(y).float().mean().item()\n",
    "\n",
    "        if i % (len(trn_dataloader) // 6) == 0:\n",
    "            loss_avg /= len(trn_dataloader) // 6\n",
    "            accuracy_avg /= len(trn_dataloader) // 6\n",
    "\n",
    "            trn_losses.append(loss_avg)\n",
    "            trn_accuracies.append(accuracy_avg)\n",
    "\n",
    "            schedular.step(loss_avg)\n",
    "\n",
    "            print(f\"{i}: Average Loss: {loss_avg}, Average Accuracy: {accuracy_avg}, LR: {opt.param_groups[0]['lr']}\")\n",
    "\n",
    "            loss_avg = 0\n",
    "            accuracy_avg = 0\n",
    "\n",
    "        # with torch.no_grad():\n",
    "        #     model.eval()\n",
    "        # \n",
    "        #     avg_val_loss = 0\n",
    "        #     avg_val_accuracy = 0\n",
    "        # \n",
    "        #     x_val, y_val = next(iter(val_dataloader))\n",
    "        #     avg_val_loss += criterion(model(x_val).squeeze(1), y_val).item()\n",
    "        #     avg_val_accuracy += model(x_val).argmax(1).eq(y_val).float().mean().item()\n",
    "        # \n",
    "        #     avg_val_loss /= len(val_dataloader)\n",
    "        #     avg_val_accuracy /= len(val_dataloader)\n",
    "        # \n",
    "        #     val_losses.append(avg_val_loss)\n",
    "        #     val_accuracies.append(avg_val_accuracy)\n",
    "\n",
    "    print(\n",
    "        f\"Epoch: {epoch}, trn loss: {trn_losses[-1]}, val accuracy: {val_accuracies[-1]}, LR: {opt.param_groups[0]['lr']}\")"
   ],
   "outputs": [
    {
     "name": "stdout",
     "output_type": "stream",
     "text": [
      "21: Average Loss: 0.6648460030555725, Average Accuracy: 0.4851190476190476, LR: 0.01\n",
      "42: Average Loss: 0.608268678188324, Average Accuracy: 0.5059523809523809, LR: 0.01\n",
      "63: Average Loss: 0.6030076146125793, Average Accuracy: 0.5215773809523809, LR: 0.01\n",
      "84: Average Loss: 0.6041966676712036, Average Accuracy: 0.4888392857142857, LR: 0.01\n",
      "105: Average Loss: 0.5292912721633911, Average Accuracy: 0.47172619047619047, LR: 0.01\n",
      "126: Average Loss: 0.5479607582092285, Average Accuracy: 0.520535714569546, LR: 0.01\n",
      "Epoch: 0, trn loss: 0.5479607582092285, val accuracy: 0, LR: 0.01\n",
      "21: Average Loss: 0.5544847249984741, Average Accuracy: 0.47619047619047616, LR: 0.01\n",
      "42: Average Loss: 0.5089338421821594, Average Accuracy: 0.5014880952380952, LR: 0.01\n",
      "63: Average Loss: 0.4803769588470459, Average Accuracy: 0.5007440476190477, LR: 0.01\n",
      "84: Average Loss: 0.48403477668762207, Average Accuracy: 0.5119047619047619, LR: 0.01\n",
      "105: Average Loss: 0.4794701039791107, Average Accuracy: 0.5089285714285714, LR: 0.01\n",
      "126: Average Loss: 0.43060943484306335, Average Accuracy: 0.4857142858562015, LR: 0.01\n",
      "Epoch: 1, trn loss: 0.43060943484306335, val accuracy: 0, LR: 0.01\n",
      "21: Average Loss: 0.4487493634223938, Average Accuracy: 0.5111607142857143, LR: 0.01\n",
      "42: Average Loss: 0.4197937548160553, Average Accuracy: 0.5066964285714286, LR: 0.01\n",
      "63: Average Loss: 0.4505659341812134, Average Accuracy: 0.48735119047619047, LR: 0.01\n",
      "84: Average Loss: 0.4408438205718994, Average Accuracy: 0.5052083333333334, LR: 0.01\n",
      "105: Average Loss: 0.39730599522590637, Average Accuracy: 0.48288690476190477, LR: 0.01\n",
      "126: Average Loss: 0.4088021218776703, Average Accuracy: 0.509226191611517, LR: 0.01\n",
      "Epoch: 2, trn loss: 0.4088021218776703, val accuracy: 0, LR: 0.01\n",
      "21: Average Loss: 0.3572929799556732, Average Accuracy: 0.49330357142857145, LR: 0.01\n",
      "42: Average Loss: 0.38668379187583923, Average Accuracy: 0.5044642857142857, LR: 0.01\n",
      "63: Average Loss: 0.3895471692085266, Average Accuracy: 0.5066964285714286, LR: 0.01\n",
      "84: Average Loss: 0.39268311858177185, Average Accuracy: 0.5096726190476191, LR: 0.01\n",
      "105: Average Loss: 0.3736170828342438, Average Accuracy: 0.5052083333333334, LR: 0.01\n",
      "126: Average Loss: 0.3578096032142639, Average Accuracy: 0.48318452494485037, LR: 0.01\n",
      "Epoch: 3, trn loss: 0.3578096032142639, val accuracy: 0, LR: 0.01\n",
      "21: Average Loss: 0.437863290309906, Average Accuracy: 0.5066964285714286, LR: 0.01\n",
      "42: Average Loss: 0.37427324056625366, Average Accuracy: 0.5, LR: 0.01\n",
      "63: Average Loss: 0.3406772017478943, Average Accuracy: 0.5119047619047619, LR: 0.01\n",
      "84: Average Loss: 0.3604688048362732, Average Accuracy: 0.5096726190476191, LR: 0.01\n",
      "105: Average Loss: 0.33309969305992126, Average Accuracy: 0.49330357142857145, LR: 0.01\n",
      "126: Average Loss: 0.3602684438228607, Average Accuracy: 0.4721726193314507, LR: 0.01\n",
      "Epoch: 4, trn loss: 0.3602684438228607, val accuracy: 0, LR: 0.01\n",
      "21: Average Loss: 0.32535985112190247, Average Accuracy: 0.5193452380952381, LR: 0.01\n",
      "42: Average Loss: 0.2757270932197571, Average Accuracy: 0.5119047619047619, LR: 0.01\n",
      "63: Average Loss: 0.30561548471450806, Average Accuracy: 0.484375, LR: 0.01\n",
      "84: Average Loss: 0.29674938321113586, Average Accuracy: 0.5111607142857143, LR: 0.01\n",
      "105: Average Loss: 0.2868728041648865, Average Accuracy: 0.4962797619047619, LR: 0.01\n",
      "126: Average Loss: 0.3575136661529541, Average Accuracy: 0.453125, LR: 0.01\n",
      "Epoch: 5, trn loss: 0.3575136661529541, val accuracy: 0, LR: 0.01\n",
      "21: Average Loss: 0.30595070123672485, Average Accuracy: 0.49330357142857145, LR: 0.01\n",
      "42: Average Loss: 0.25663435459136963, Average Accuracy: 0.47098214285714285, LR: 0.01\n",
      "63: Average Loss: 0.2607817053794861, Average Accuracy: 0.5282738095238095, LR: 0.01\n",
      "84: Average Loss: 0.27226072549819946, Average Accuracy: 0.5081845238095238, LR: 0.01\n",
      "105: Average Loss: 0.24646936357021332, Average Accuracy: 0.5037202380952381, LR: 0.01\n",
      "126: Average Loss: 0.30255210399627686, Average Accuracy: 0.48928571456954595, LR: 0.01\n",
      "Epoch: 6, trn loss: 0.30255210399627686, val accuracy: 0, LR: 0.01\n",
      "21: Average Loss: 0.21700114011764526, Average Accuracy: 0.5089285714285714, LR: 0.01\n",
      "42: Average Loss: 0.22144372761249542, Average Accuracy: 0.47172619047619047, LR: 0.01\n",
      "63: Average Loss: 0.21359869837760925, Average Accuracy: 0.5007440476190477, LR: 0.01\n",
      "84: Average Loss: 0.21657559275627136, Average Accuracy: 0.5037202380952381, LR: 0.01\n",
      "105: Average Loss: 0.20311897993087769, Average Accuracy: 0.5208333333333334, LR: 0.01\n",
      "126: Average Loss: 0.2713142931461334, Average Accuracy: 0.4877976193314507, LR: 0.01\n",
      "Epoch: 7, trn loss: 0.2713142931461334, val accuracy: 0, LR: 0.01\n",
      "21: Average Loss: 0.18202929198741913, Average Accuracy: 0.5230654761904762, LR: 0.01\n",
      "42: Average Loss: 0.20704714953899384, Average Accuracy: 0.4895833333333333, LR: 0.01\n",
      "63: Average Loss: 0.19203220307826996, Average Accuracy: 0.4962797619047619, LR: 0.01\n",
      "84: Average Loss: 0.18433637917041779, Average Accuracy: 0.5163690476190477, LR: 0.01\n",
      "105: Average Loss: 0.21195754408836365, Average Accuracy: 0.49181547619047616, LR: 0.01\n",
      "126: Average Loss: 0.24537043273448944, Average Accuracy: 0.4854166678019932, LR: 0.01\n",
      "Epoch: 8, trn loss: 0.24537043273448944, val accuracy: 0, LR: 0.01\n",
      "21: Average Loss: 0.22045615315437317, Average Accuracy: 0.4947916666666667, LR: 0.01\n",
      "42: Average Loss: 0.19119392335414886, Average Accuracy: 0.5163690476190477, LR: 0.01\n",
      "63: Average Loss: 0.1792118400335312, Average Accuracy: 0.4880952380952381, LR: 0.01\n",
      "84: Average Loss: 0.16956284642219543, Average Accuracy: 0.5, LR: 0.01\n",
      "105: Average Loss: 0.19730031490325928, Average Accuracy: 0.49330357142857145, LR: 0.01\n",
      "126: Average Loss: 0.22847296297550201, Average Accuracy: 0.5011904764743078, LR: 0.01\n",
      "Epoch: 9, trn loss: 0.22847296297550201, val accuracy: 0, LR: 0.01\n"
     ]
    }
   ],
   "execution_count": 206
  },
  {
   "metadata": {
    "ExecuteTime": {
     "end_time": "2024-09-23T11:39:27.164702700Z",
     "start_time": "2024-09-23T10:59:11.525904Z"
    }
   },
   "cell_type": "code",
   "source": [
    "plt.subplot(121)\n",
    "\n",
    "plt.plot(range(len(trn_losses)), trn_losses, label='Training Loss', color='red')\n",
    "# plt.plot(range(len(val_losses)), val_losses, label='Validation Loss', color='green')\n",
    "\n",
    "plt.xlabel('Epochs')\n",
    "plt.ylabel('Loss')\n",
    "plt.legend()\n",
    "\n",
    "plt.subplot(122)\n",
    "plt.plot(range(len(trn_accuracies)), trn_accuracies, label='Training Accuracy', color='red')\n",
    "# plt.plot(range(len(val_accuracies)), val_accuracies, label='Validation Accuracy', color='green')\n",
    "plt.xlabel('Epochs')\n",
    "plt.ylabel('Accuracy')\n",
    "plt.legend()\n"
   ],
   "outputs": [
    {
     "data": {
      "text/plain": [
       "<matplotlib.legend.Legend at 0x1dcfb5eb800>"
      ]
     },
     "execution_count": 130,
     "metadata": {},
     "output_type": "execute_result"
    },
    {
     "data": {
      "text/plain": [
       "<Figure size 640x480 with 2 Axes>"
      ],
      "image/png": "[encoded data removed]"
     },
     "metadata": {},
     "output_type": "display_data"
    }
   ],
   "execution_count": 130
  }
 ],
 "metadata": {
  "kernelspec": {
   "display_name": "Python 3",
   "language": "python",
   "name": "python3"
  },
  "language_info": {
   "codemirror_mode": {
    "name": "ipython",
    "version": 3
   },
   "file_extension": ".py",
   "mimetype": "text/x-python",
   "name": "python",
   "nbconvert_exporter": "python",
   "pygments_lexer": "ipython3",
   "version": "3.12.5"
  }
 },
 "nbformat": 4,
 "nbformat_minor": 2
}
