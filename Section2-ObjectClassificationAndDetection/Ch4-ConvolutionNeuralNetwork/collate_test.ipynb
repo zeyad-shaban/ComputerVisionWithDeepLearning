{
 "cells": [
  {
   "cell_type": "code",
   "execution_count": 1,
   "metadata": {},
   "outputs": [],
   "source": [
    "import torch\n",
    "from torch.utils.data import Dataset, DataLoader\n",
    "\n",
    "from imgaug import augmenters as iaa\n",
    "import numpy as np\n",
    "import matplotlib.pyplot as plt"
   ]
  },
  {
   "cell_type": "code",
   "execution_count": 183,
   "metadata": {},
   "outputs": [
    {
     "name": "stdout",
     "output_type": "stream",
     "text": [
      "[[[0.68066406 1.6845703  1.6699219 ]\n",
      "  [2.71875    4.34375    4.359375  ]\n",
      "  [5.4189453  7.1875     7.901367  ]]]\n",
      "[[[10.595703 26.5625   42.8125  ]\n",
      "  [30.703125 54.6875   70.9375  ]\n",
      "  [39.375    58.83789  47.63672 ]]]\n"
     ]
    }
   ],
   "source": [
    "x_train = torch.tensor([\n",
    "    [\n",
    "        [1, 2, 3,],\n",
    "        [4,5,6,],\n",
    "        [7, 8, 9],\n",
    "    ],\n",
    "    [\n",
    "        [10, 20, 30,],\n",
    "        [40,50,60,],\n",
    "        [70, 80, 90],\n",
    "    ],\n",
    "])\n",
    "\n",
    "y_train = torch.tensor([0, 1])\n",
    "\n",
    "class DS(Dataset):\n",
    "    def __init__(self, x, y, aug=None):\n",
    "        self.x = x\n",
    "        self.y = y\n",
    "        self.aug = aug\n",
    "\n",
    "    def __getitem__(self, i):\n",
    "        return self.x[i], self.y[i]\n",
    "\n",
    "    def __len__(self):\n",
    "        return len(self.x)\n",
    "\n",
    "    def collate_fn(self, batch):\n",
    "        x, y = zip(*batch)\n",
    "        \n",
    "\n",
    "        x = np.stack(x, dtype=np.float32)\n",
    "\n",
    "        if self.aug:\n",
    "            x = self.aug.augment_images(x)\n",
    "\n",
    "        return x, y\n",
    "\n",
    "\n",
    "aug = iaa.Affine(\n",
    "\n",
    "\n",
    "\n",
    "    \n",
    ")\n",
    "\n",
    "dataset = DS(x_train, y_train, aug)\n",
    "dl = DataLoader(dataset, 1, collate_fn=dataset.collate_fn)\n",
    "\n",
    "for x, y in dl:\n",
    "    print(x)\n",
    "    pass"
   ]
  }
 ],
 "metadata": {
  "kernelspec": {
   "display_name": "Python 3",
   "language": "python",
   "name": "python3"
  },
  "language_info": {
   "codemirror_mode": {
    "name": "ipython",
    "version": 3
   },
   "file_extension": ".py",
   "mimetype": "text/x-python",
   "name": "python",
   "nbconvert_exporter": "python",
   "pygments_lexer": "ipython3",
   "version": "3.12.5"
  }
 },
 "nbformat": 4,
 "nbformat_minor": 2
}
