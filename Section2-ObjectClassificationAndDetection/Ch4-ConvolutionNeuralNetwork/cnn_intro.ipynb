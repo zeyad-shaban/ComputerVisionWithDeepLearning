{
 "cells": [
  {
   "cell_type": "code",
   "execution_count": 24,
   "metadata": {},
   "outputs": [],
   "source": [
    "import torch\n",
    "import torch.nn as nn\n",
    "import numpy as np\n",
    "import matplotlib.pyplot as plt\n",
    "import torch.nn.functional as F"
   ]
  },
  {
   "cell_type": "code",
   "execution_count": 59,
   "metadata": {},
   "outputs": [
    {
     "data": {
      "text/plain": [
       "(tensor([[[[  0,   0,   0,   0],\n",
       "           [  0,  58,  80,  39],\n",
       "           [  0, 161, 181,  79],\n",
       "           [  0,  68,  74,  26]]]]),\n",
       " tensor([[[[ 58,  80],\n",
       "           [161, 181]]]]))"
      ]
     },
     "execution_count": 59,
     "metadata": {},
     "output_type": "execute_result"
    }
   ],
   "source": [
    "img = torch.tensor([\n",
    "    [1, 2, 3, 5, 6],\n",
    "    [7, 8, 9, 10, 11],\n",
    "    [12, 13, 14, 15, 16],\n",
    "    [17, 18, 19, 20, 21],\n",
    "    [22, 23, 24, 25, 26],\n",
    "])\n",
    "\n",
    "kernel = torch.tensor([\n",
    "    [1, 2],\n",
    "    [3, 4],\n",
    "])\n",
    "\n",
    "img = img[None][None]\n",
    "kernel = kernel[None][None]\n",
    "\n",
    "result = F.conv2d(img, kernel, stride=2, padding=2)\n",
    "max = F.max_pool2d(result, 2)\n",
    "\n",
    "result, max"
   ]
  },
  {
   "cell_type": "code",
   "execution_count": 62,
   "metadata": {},
   "outputs": [
    {
     "data": {
      "text/plain": [
       "tensor([ 58,  80, 161, 181])"
      ]
     },
     "execution_count": 62,
     "metadata": {},
     "output_type": "execute_result"
    }
   ],
   "source": [
    "max.flatten()"
   ]
  }
 ],
 "metadata": {
  "kernelspec": {
   "display_name": "Python 3",
   "language": "python",
   "name": "python3"
  },
  "language_info": {
   "codemirror_mode": {
    "name": "ipython",
    "version": 3
   },
   "file_extension": ".py",
   "mimetype": "text/x-python",
   "name": "python",
   "nbconvert_exporter": "python",
   "pygments_lexer": "ipython3",
   "version": "3.12.5"
  }
 },
 "nbformat": 4,
 "nbformat_minor": 2
}
