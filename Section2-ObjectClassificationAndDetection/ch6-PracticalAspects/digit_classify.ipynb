{
 "cells": [
  {
   "cell_type": "code",
   "id": "initial_id",
   "metadata": {
    "collapsed": true,
    "ExecuteTime": {
     "end_time": "2024-10-06T16:59:33.922694Z",
     "start_time": "2024-10-06T16:59:33.915174Z"
    }
   },
   "source": [
    "import torch\n",
    "import torch.nn as nn\n",
    "import torch.optim as optim\n",
    "from torch.utils.data import DataLoader\n",
    "from torchsummary import summary\n",
    "from torchvision import datasets, transforms as T\n",
    "from torchvision.utils import make_grid\n",
    "\n",
    "device = torch.device('cuda' if torch.cuda.is_available() else 'cpu')"
   ],
   "outputs": [],
   "execution_count": 420
  },
  {
   "metadata": {
    "ExecuteTime": {
     "end_time": "2024-10-06T16:59:34.176316Z",
     "start_time": "2024-10-06T16:59:34.119210Z"
    }
   },
   "cell_type": "code",
   "source": [
    "transform = T.Compose([\n",
    "    T.ToTensor(),\n",
    "    T.ColorJitter(brightness=(0.5, 1.2), contrast=(0.95, 1.2), saturation=(0.5, 1.5)),\n",
    "    T.RandomAffine(60, translate=(0.1, 0.1), scale=(0.8, 2), shear=(0.5, 1.5)),\n",
    "])\n",
    "dataset = datasets.MNIST('./data', train=True, download=True, transform=transform)\n",
    "dataloader = DataLoader(dataset, 64, True)"
   ],
   "id": "ea3b917228759f81",
   "outputs": [],
   "execution_count": 421
  },
  {
   "metadata": {
    "ExecuteTime": {
     "end_time": "2024-10-06T16:59:34.452706Z",
     "start_time": "2024-10-06T16:59:34.372800Z"
    }
   },
   "cell_type": "code",
   "source": [
    "data, labels = next(iter(dataloader))\n",
    "grid = make_grid(data)"
   ],
   "id": "6daa8368ecc3e210",
   "outputs": [],
   "execution_count": 422
  },
  {
   "metadata": {
    "ExecuteTime": {
     "end_time": "2024-10-06T17:30:46.236673Z",
     "start_time": "2024-10-06T17:30:46.227926Z"
    }
   },
   "cell_type": "code",
   "source": [
    "class MyNet(nn.Module):\n",
    "    def __init__(self):\n",
    "        super().__init__()\n",
    "        self.conv_layer = nn.Sequential(\n",
    "            nn.Conv2d(1, 10, 3),\n",
    "            nn.ReLU(),\n",
    "            nn.MaxPool2d(2),\n",
    "\n",
    "            nn.Conv2d(10, 20, 3),\n",
    "            nn.ReLU(),\n",
    "        )\n",
    "\n",
    "        self.max_pool = nn.MaxPool2d(2)\n",
    "\n",
    "        self.fc = nn.Sequential(\n",
    "            nn.Flatten(),\n",
    "            nn.Dropout1d(0.2),\n",
    "            nn.Linear(500, 250),\n",
    "            nn.BatchNorm1d(250),\n",
    "            nn.Mish(),\n",
    "\n",
    "            nn.Dropout(0.2),\n",
    "            nn.Linear(250, 100),\n",
    "            nn.BatchNorm1d(100),\n",
    "            nn.ReLU(),\n",
    "\n",
    "            nn.Linear(100, 10),\n",
    "        )\n",
    "        \n",
    "    def forward(self, x):\n",
    "        x = self.conv_layer(x)\n",
    "        x = self.max_pool(x)\n",
    "        x = self.fc(x)\n",
    "        \n",
    "        return x\n",
    "\n",
    "\n",
    "model = MyNet()"
   ],
   "id": "9bd8abf9806283b2",
   "outputs": [],
   "execution_count": 541
  },
  {
   "metadata": {
    "ExecuteTime": {
     "end_time": "2024-10-06T17:30:46.428703Z",
     "start_time": "2024-10-06T17:30:46.420985Z"
    }
   },
   "cell_type": "code",
   "source": [
    "opt = optim.Adam(model.parameters(), 1e-1)\n",
    "criterion = nn.CrossEntropyLoss()\n",
    "scheduler = optim.lr_scheduler.ReduceLROnPlateau(opt, factor=0.5, threshold=1e-4, patience=10)"
   ],
   "id": "45e3a21b306dca6e",
   "outputs": [],
   "execution_count": 542
  },
  {
   "metadata": {
    "ExecuteTime": {
     "end_time": "2024-10-06T17:30:46.558860Z",
     "start_time": "2024-10-06T17:30:46.550884Z"
    }
   },
   "cell_type": "code",
   "source": "summary(model, (1, 28, 28))",
   "id": "c99417f05ccac92b",
   "outputs": [
    {
     "name": "stdout",
     "output_type": "stream",
     "text": [
      "----------------------------------------------------------------\n",
      "        Layer (type)               Output Shape         Param #\n",
      "================================================================\n",
      "            Conv2d-1           [-1, 10, 26, 26]             100\n",
      "              ReLU-2           [-1, 10, 26, 26]               0\n",
      "         MaxPool2d-3           [-1, 10, 13, 13]               0\n",
      "            Conv2d-4           [-1, 20, 11, 11]           1,820\n",
      "              ReLU-5           [-1, 20, 11, 11]               0\n",
      "         MaxPool2d-6             [-1, 20, 5, 5]               0\n",
      "           Flatten-7                  [-1, 500]               0\n",
      "         Dropout1d-8                  [-1, 500]               0\n",
      "            Linear-9                  [-1, 250]         125,250\n",
      "      BatchNorm1d-10                  [-1, 250]             500\n",
      "             Mish-11                  [-1, 250]               0\n",
      "          Dropout-12                  [-1, 250]               0\n",
      "           Linear-13                  [-1, 100]          25,100\n",
      "      BatchNorm1d-14                  [-1, 100]             200\n",
      "             ReLU-15                  [-1, 100]               0\n",
      "           Linear-16                   [-1, 10]           1,010\n",
      "================================================================\n",
      "Total params: 153,980\n",
      "Trainable params: 153,980\n",
      "Non-trainable params: 0\n",
      "----------------------------------------------------------------\n",
      "Input size (MB): 0.00\n",
      "Forward/backward pass size (MB): 0.17\n",
      "Params size (MB): 0.59\n",
      "Estimated Total Size (MB): 0.76\n",
      "----------------------------------------------------------------\n"
     ]
    }
   ],
   "execution_count": 543
  },
  {
   "metadata": {
    "ExecuteTime": {
     "end_time": "2024-10-06T17:32:55.458156Z",
     "start_time": "2024-10-06T17:30:47.252936Z"
    }
   },
   "cell_type": "code",
   "source": [
    "epochs = 2\n",
    "\n",
    "model.train()\n",
    "for epoch in range(epochs):\n",
    "    i = 0\n",
    "    for x, y in dataloader:\n",
    "        _label = model(x)\n",
    "        loss = criterion(_label, y)\n",
    "\n",
    "        opt.zero_grad()\n",
    "        loss.backward()\n",
    "        opt.step()\n",
    "\n",
    "        if i % 20 == 0:\n",
    "            print(f'EPOCH: {epoch}, Loss: {loss}, LR: {opt.param_groups[0]['lr']}')\n",
    "            scheduler.step(loss)\n",
    "        i += 1"
   ],
   "id": "af71cd6feef2209b",
   "outputs": [
    {
     "name": "stdout",
     "output_type": "stream",
     "text": [
      "EPOCH: 0, Loss: 2.388152837753296, LR: 0.1\n",
      "EPOCH: 0, Loss: 2.2946152687072754, LR: 0.1\n",
      "EPOCH: 0, Loss: 1.9909926652908325, LR: 0.1\n",
      "EPOCH: 0, Loss: 1.8857176303863525, LR: 0.1\n",
      "EPOCH: 0, Loss: 2.0614843368530273, LR: 0.1\n",
      "EPOCH: 0, Loss: 1.9380584955215454, LR: 0.1\n",
      "EPOCH: 0, Loss: 2.1154191493988037, LR: 0.1\n",
      "EPOCH: 0, Loss: 1.8970551490783691, LR: 0.1\n",
      "EPOCH: 0, Loss: 1.6628354787826538, LR: 0.1\n",
      "EPOCH: 0, Loss: 1.5386840105056763, LR: 0.1\n",
      "EPOCH: 0, Loss: 1.6684986352920532, LR: 0.1\n",
      "EPOCH: 0, Loss: 1.8041095733642578, LR: 0.1\n",
      "EPOCH: 0, Loss: 1.6704274415969849, LR: 0.1\n",
      "EPOCH: 0, Loss: 1.3778164386749268, LR: 0.1\n",
      "EPOCH: 0, Loss: 1.3806499242782593, LR: 0.1\n",
      "EPOCH: 0, Loss: 1.6808650493621826, LR: 0.1\n",
      "EPOCH: 0, Loss: 1.3844329118728638, LR: 0.1\n",
      "EPOCH: 0, Loss: 1.2042601108551025, LR: 0.1\n",
      "EPOCH: 0, Loss: 0.9488086104393005, LR: 0.1\n",
      "EPOCH: 0, Loss: 1.4118154048919678, LR: 0.1\n",
      "EPOCH: 0, Loss: 1.1782509088516235, LR: 0.1\n",
      "EPOCH: 0, Loss: 1.1767133474349976, LR: 0.1\n",
      "EPOCH: 0, Loss: 1.1594172716140747, LR: 0.1\n",
      "EPOCH: 0, Loss: 1.1283587217330933, LR: 0.1\n",
      "EPOCH: 0, Loss: 1.184320330619812, LR: 0.1\n",
      "EPOCH: 0, Loss: 1.3633366823196411, LR: 0.1\n",
      "EPOCH: 0, Loss: 1.161678671836853, LR: 0.1\n",
      "EPOCH: 0, Loss: 0.9414422512054443, LR: 0.1\n",
      "EPOCH: 0, Loss: 1.198199987411499, LR: 0.1\n",
      "EPOCH: 0, Loss: 1.0886822938919067, LR: 0.1\n",
      "EPOCH: 0, Loss: 1.1378542184829712, LR: 0.1\n",
      "EPOCH: 0, Loss: 0.8204632997512817, LR: 0.1\n",
      "EPOCH: 0, Loss: 1.244523525238037, LR: 0.1\n",
      "EPOCH: 0, Loss: 1.1281458139419556, LR: 0.1\n",
      "EPOCH: 0, Loss: 1.188847303390503, LR: 0.1\n",
      "EPOCH: 0, Loss: 1.336269736289978, LR: 0.1\n",
      "EPOCH: 0, Loss: 1.003947138786316, LR: 0.1\n",
      "EPOCH: 0, Loss: 1.1158665418624878, LR: 0.1\n",
      "EPOCH: 0, Loss: 1.0981265306472778, LR: 0.1\n",
      "EPOCH: 0, Loss: 0.7404757738113403, LR: 0.1\n",
      "EPOCH: 0, Loss: 0.8299925327301025, LR: 0.1\n",
      "EPOCH: 0, Loss: 1.1996887922286987, LR: 0.1\n",
      "EPOCH: 0, Loss: 0.9952952861785889, LR: 0.1\n",
      "EPOCH: 0, Loss: 1.1218113899230957, LR: 0.1\n",
      "EPOCH: 0, Loss: 1.3757246732711792, LR: 0.1\n",
      "EPOCH: 0, Loss: 0.8327666521072388, LR: 0.1\n",
      "EPOCH: 0, Loss: 1.211246132850647, LR: 0.1\n",
      "EPOCH: 1, Loss: 0.8317694067955017, LR: 0.1\n",
      "EPOCH: 1, Loss: 1.20709228515625, LR: 0.1\n",
      "EPOCH: 1, Loss: 0.926563024520874, LR: 0.1\n",
      "EPOCH: 1, Loss: 0.8344070315361023, LR: 0.1\n",
      "EPOCH: 1, Loss: 0.922480046749115, LR: 0.05\n",
      "EPOCH: 1, Loss: 1.3644142150878906, LR: 0.05\n",
      "EPOCH: 1, Loss: 0.7040189504623413, LR: 0.05\n",
      "EPOCH: 1, Loss: 0.7128193974494934, LR: 0.05\n",
      "EPOCH: 1, Loss: 0.9059085249900818, LR: 0.05\n",
      "EPOCH: 1, Loss: 1.0609171390533447, LR: 0.05\n",
      "EPOCH: 1, Loss: 0.9177225828170776, LR: 0.05\n",
      "EPOCH: 1, Loss: 0.7542036175727844, LR: 0.05\n",
      "EPOCH: 1, Loss: 0.9704614877700806, LR: 0.05\n",
      "EPOCH: 1, Loss: 1.1427043676376343, LR: 0.05\n",
      "EPOCH: 1, Loss: 0.6590627431869507, LR: 0.05\n",
      "EPOCH: 1, Loss: 1.1547636985778809, LR: 0.05\n",
      "EPOCH: 1, Loss: 0.940714955329895, LR: 0.05\n",
      "EPOCH: 1, Loss: 0.9420278072357178, LR: 0.05\n",
      "EPOCH: 1, Loss: 0.7956433892250061, LR: 0.05\n",
      "EPOCH: 1, Loss: 0.9850793480873108, LR: 0.05\n",
      "EPOCH: 1, Loss: 0.7746358513832092, LR: 0.05\n",
      "EPOCH: 1, Loss: 0.8061090707778931, LR: 0.05\n",
      "EPOCH: 1, Loss: 1.224778652191162, LR: 0.05\n",
      "EPOCH: 1, Loss: 0.7901191115379333, LR: 0.05\n",
      "EPOCH: 1, Loss: 0.6275331377983093, LR: 0.05\n",
      "EPOCH: 1, Loss: 1.060549259185791, LR: 0.05\n",
      "EPOCH: 1, Loss: 0.9795371294021606, LR: 0.05\n",
      "EPOCH: 1, Loss: 0.854983925819397, LR: 0.05\n",
      "EPOCH: 1, Loss: 0.9722446799278259, LR: 0.05\n",
      "EPOCH: 1, Loss: 1.050612449645996, LR: 0.05\n",
      "EPOCH: 1, Loss: 0.7609047293663025, LR: 0.05\n",
      "EPOCH: 1, Loss: 0.711421549320221, LR: 0.05\n",
      "EPOCH: 1, Loss: 1.111211895942688, LR: 0.05\n",
      "EPOCH: 1, Loss: 1.2627614736557007, LR: 0.05\n",
      "EPOCH: 1, Loss: 1.086501955986023, LR: 0.05\n",
      "EPOCH: 1, Loss: 0.7993491291999817, LR: 0.05\n",
      "EPOCH: 1, Loss: 0.8584170341491699, LR: 0.025\n",
      "EPOCH: 1, Loss: 0.8295683264732361, LR: 0.025\n",
      "EPOCH: 1, Loss: 1.045678734779358, LR: 0.025\n",
      "EPOCH: 1, Loss: 0.9129575490951538, LR: 0.025\n",
      "EPOCH: 1, Loss: 0.7005441188812256, LR: 0.025\n",
      "EPOCH: 1, Loss: 1.1040056943893433, LR: 0.025\n",
      "EPOCH: 1, Loss: 0.9643622040748596, LR: 0.025\n",
      "EPOCH: 1, Loss: 0.877773642539978, LR: 0.025\n",
      "EPOCH: 1, Loss: 1.0604454278945923, LR: 0.025\n",
      "EPOCH: 1, Loss: 0.6295910477638245, LR: 0.025\n",
      "EPOCH: 1, Loss: 0.8652439713478088, LR: 0.025\n"
     ]
    }
   ],
   "execution_count": 544
  },
  {
   "metadata": {
    "ExecuteTime": {
     "end_time": "2024-10-06T17:30:34.028131Z",
     "start_time": "2024-10-06T17:30:33.953668Z"
    }
   },
   "cell_type": "code",
   "source": [
    "x, y = next(iter(dataloader))\n",
    "img, label = x[0], y[0]\n",
    "\n",
    "model.eval()\n",
    "_label = model(img[None])"
   ],
   "id": "f1ca3a8e27fbc492",
   "outputs": [
    {
     "data": {
      "text/plain": [
       "(tensor([[4.3908]], grad_fn=<AddmmBackward0>), tensor(3))"
      ]
     },
     "execution_count": 540,
     "metadata": {},
     "output_type": "execute_result"
    }
   ],
   "execution_count": 540
  },
  {
   "metadata": {
    "ExecuteTime": {
     "end_time": "2024-10-06T17:22:33.748197Z",
     "start_time": "2024-10-06T17:22:33.741025Z"
    }
   },
   "cell_type": "code",
   "source": [
    "conv_layer = nn.Sequential(*list(model.children())[0][:4])\n",
    "\n",
    "loss = (criterion(_label.squeeze(0), label))\n",
    "loss.backward()"
   ],
   "id": "ec397fdf7727545e",
   "outputs": [],
   "execution_count": 516
  },
  {
   "metadata": {
    "ExecuteTime": {
     "end_time": "2024-10-06T17:22:34.101043Z",
     "start_time": "2024-10-06T17:22:34.094795Z"
    }
   },
   "cell_type": "code",
   "source": "model",
   "id": "58ff21820a1d5f59",
   "outputs": [
    {
     "data": {
      "text/plain": [
       "tensor(0.0176, grad_fn=<NllLossBackward0>)"
      ]
     },
     "execution_count": 517,
     "metadata": {},
     "output_type": "execute_result"
    }
   ],
   "execution_count": 517
  }
 ],
 "metadata": {
  "kernelspec": {
   "display_name": "Python 3",
   "language": "python",
   "name": "python3"
  },
  "language_info": {
   "codemirror_mode": {
    "name": "ipython",
    "version": 2
   },
   "file_extension": ".py",
   "mimetype": "text/x-python",
   "name": "python",
   "nbconvert_exporter": "python",
   "pygments_lexer": "ipython2",
   "version": "2.7.6"
  }
 },
 "nbformat": 4,
 "nbformat_minor": 5
}
