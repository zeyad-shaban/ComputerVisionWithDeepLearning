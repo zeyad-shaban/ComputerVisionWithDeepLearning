{
 "cells": [
  {
   "cell_type": "code",
   "execution_count": 6,
   "metadata": {},
   "outputs": [],
   "source": [
    "import torch\n",
    "import torch.nn as nn\n",
    "import numpy as np\n",
    "import pandas as pd\n",
    "import matplotlib.pyplot as plt\n",
    "\n",
    "import math\n",
    "import copy"
   ]
  },
  {
   "cell_type": "code",
   "execution_count": 34,
   "metadata": {},
   "outputs": [],
   "source": [
    "x = np.array([\n",
    "    [1, 1]\n",
    "])\n",
    "\n",
    "y = 0\n",
    "\n",
    "W = [\n",
    "    np.array([\n",
    "        [0.8, 0.4, 0.3],\n",
    "        [0.2, 0.9, 0.5],\n",
    "    ]),\n",
    "    # np.array([0.1, 0.5, 0.3]),  # BIAS\n",
    "    np.zeros(3),\n",
    "    np.array([\n",
    "        [0.3, 0.5, 0.9],\n",
    "    ]),\n",
    "    np.zeros(1),\n",
    "    # np.array([0.2]),  # BIAS\n",
    "]"
   ]
  },
  {
   "cell_type": "code",
   "execution_count": 16,
   "metadata": {},
   "outputs": [],
   "source": [
    "def sigmoid(x):\n",
    "    return 1 / (1 + np.exp(-x))\n",
    "\n",
    "\n",
    "def MSE_Loss(y: float, p: float):\n",
    "    return (y - p) ** 2"
   ]
  },
  {
   "cell_type": "code",
   "execution_count": 28,
   "metadata": {},
   "outputs": [],
   "source": [
    "def forward_propagation(x_train: np.ndarray, weights: list) -> float:\n",
    "    h1 = np.dot(x_train, weights[0])\n",
    "    h1 = sigmoid(h1) + weights[1]\n",
    "\n",
    "    pred_out = np.dot(h1.squeeze(0), weights[2].squeeze(0))\n",
    "\n",
    "    return pred_out\n",
    "\n",
    "\n",
    "def back_propagation(x_train: np.ndarray, y: float, weights: list, loss: float, lr=0.1) -> list:\n",
    "    weights_plus = copy.deepcopy(weights)\n",
    "    weights_new = copy.deepcopy(weights)\n",
    "\n",
    "    for layer_i, layer in enumerate(weights):\n",
    "        for weight_i, weight in enumerate(weights[layer_i]):\n",
    "            weights_plus[layer_i][weight_i] += 0.001\n",
    "\n",
    "            pred_plus = forward_propagation(x_train, weights_plus)\n",
    "            loss_plus = MSE_Loss(pred_plus, y)\n",
    "\n",
    "            grad = (loss_plus - loss) / 0.0001\n",
    "            weights_new[layer_i][weight_i] = -grad * lr\n",
    "\n",
    "    return weights_new"
   ]
  },
  {
   "cell_type": "code",
   "execution_count": 39,
   "metadata": {},
   "outputs": [
    {
     "name": "stdout",
     "output_type": "stream",
     "text": [
      "1.1424259210717185e-11\n",
      "1.1424259210717185e-11\n",
      "1.1424259210717185e-11\n",
      "1.1424259210717185e-11\n",
      "1.1424259210717185e-11\n",
      "1.1424259210717185e-11\n",
      "1.1424259210717185e-11\n",
      "1.1424259210717185e-11\n",
      "1.1424259210717185e-11\n",
      "1.1424259210717185e-11\n",
      "1.1424259210717185e-11\n",
      "1.1424259210717185e-11\n",
      "1.1424259210717185e-11\n",
      "1.1424259210717185e-11\n",
      "1.1424259210717185e-11\n",
      "1.1424259210717185e-11\n",
      "1.1424259210717185e-11\n",
      "1.1424259210717185e-11\n",
      "1.1424259210717185e-11\n",
      "1.1424259210717185e-11\n",
      "1.1424259210717185e-11\n",
      "1.1424259210717185e-11\n",
      "1.1424259210717185e-11\n",
      "1.1424259210717185e-11\n",
      "1.1424259210717185e-11\n",
      "1.1424259210717185e-11\n",
      "1.1424259210717185e-11\n",
      "1.1424259210717185e-11\n",
      "1.1424259210717185e-11\n",
      "1.1424259210717185e-11\n",
      "1.1424259210717185e-11\n",
      "1.1424259210717185e-11\n",
      "1.1424259210717185e-11\n",
      "1.1424259210717185e-11\n",
      "1.1424259210717185e-11\n",
      "1.1424259210717185e-11\n",
      "1.1424259210717185e-11\n",
      "1.1424259210717185e-11\n",
      "1.1424259210717185e-11\n",
      "1.1424259210717185e-11\n",
      "1.1424259210717185e-11\n",
      "1.1424259210717185e-11\n",
      "1.1424259210717185e-11\n",
      "1.1424259210717185e-11\n",
      "1.1424259210717185e-11\n",
      "1.1424259210717185e-11\n",
      "1.1424259210717185e-11\n",
      "1.1424259210717185e-11\n",
      "1.1424259210717185e-11\n",
      "1.1424259210717185e-11\n",
      "1.1424259210717185e-11\n",
      "1.1424259210717185e-11\n",
      "1.1424259210717185e-11\n",
      "1.1424259210717185e-11\n",
      "1.1424259210717185e-11\n",
      "1.1424259210717185e-11\n",
      "1.1424259210717185e-11\n",
      "1.1424259210717185e-11\n",
      "1.1424259210717185e-11\n",
      "1.1424259210717185e-11\n",
      "1.1424259210717185e-11\n",
      "1.1424259210717185e-11\n",
      "1.1424259210717185e-11\n",
      "1.1424259210717185e-11\n",
      "1.1424259210717185e-11\n",
      "1.1424259210717185e-11\n",
      "1.1424259210717185e-11\n",
      "1.1424259210717185e-11\n",
      "1.1424259210717185e-11\n",
      "1.1424259210717185e-11\n",
      "1.1424259210717185e-11\n",
      "1.1424259210717185e-11\n",
      "1.1424259210717185e-11\n",
      "1.1424259210717185e-11\n",
      "1.1424259210717185e-11\n",
      "1.1424259210717185e-11\n",
      "1.1424259210717185e-11\n",
      "1.1424259210717185e-11\n",
      "1.1424259210717185e-11\n",
      "1.1424259210717185e-11\n",
      "1.1424259210717185e-11\n",
      "1.1424259210717185e-11\n",
      "1.1424259210717185e-11\n",
      "1.1424259210717185e-11\n",
      "1.1424259210717185e-11\n",
      "1.1424259210717185e-11\n",
      "1.1424259210717185e-11\n",
      "1.1424259210717185e-11\n",
      "1.1424259210717185e-11\n",
      "1.1424259210717185e-11\n",
      "1.1424259210717185e-11\n",
      "1.1424259210717185e-11\n",
      "1.1424259210717185e-11\n",
      "1.1424259210717185e-11\n",
      "1.1424259210717185e-11\n",
      "1.1424259210717185e-11\n",
      "1.1424259210717185e-11\n",
      "1.1424259210717185e-11\n",
      "1.1424259210717185e-11\n",
      "1.1424259210717185e-11\n"
     ]
    },
    {
     "ename": "NameError",
     "evalue": "name 'x_train' is not defined",
     "output_type": "error",
     "traceback": [
      "\u001b[1;31m---------------------------------------------------------------------------\u001b[0m",
      "\u001b[1;31mNameError\u001b[0m                                 Traceback (most recent call last)",
      "Cell \u001b[1;32mIn[39], line 10\u001b[0m\n\u001b[0;32m      7\u001b[0m     W \u001b[38;5;241m=\u001b[39m back_propagation(x, y, W, loss, \u001b[38;5;241m0.0001\u001b[39m)\n\u001b[0;32m      8\u001b[0m     \u001b[38;5;28mprint\u001b[39m(loss)\n\u001b[1;32m---> 10\u001b[0m \u001b[38;5;28mprint\u001b[39m(forward_propagation(\u001b[43mx_train\u001b[49m))\n",
      "\u001b[1;31mNameError\u001b[0m: name 'x_train' is not defined"
     ]
    }
   ],
   "source": [
    "epochs = 100\n",
    "\n",
    "for i in range(epochs):\n",
    "    pred = forward_propagation(x, W)\n",
    "    loss = MSE_Loss(pred, y)\n",
    "\n",
    "    W = back_propagation(x, y, W, loss, 0.0001)"
   ]
  },
  {
   "cell_type": "code",
   "execution_count": 41,
   "metadata": {},
   "outputs": [
    {
     "name": "stdout",
     "output_type": "stream",
     "text": [
      "-3.37997917311885e-06\n"
     ]
    }
   ],
   "source": [
    "print(forward_propagation(x, W))"
   ]
  }
 ],
 "metadata": {
  "kernelspec": {
   "display_name": "Python 3",
   "language": "python",
   "name": "python3"
  },
  "language_info": {
   "codemirror_mode": {
    "name": "ipython",
    "version": 3
   },
   "file_extension": ".py",
   "mimetype": "text/x-python",
   "name": "python",
   "nbconvert_exporter": "python",
   "pygments_lexer": "ipython3",
   "version": "3.12.5"
  }
 },
 "nbformat": 4,
 "nbformat_minor": 2
}
